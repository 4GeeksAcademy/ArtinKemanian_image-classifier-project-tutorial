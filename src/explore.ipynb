{
 "cells": [
  {
   "cell_type": "code",
   "execution_count": 1,
   "id": "b0cc857b-dc54-4078-bd1b-933280a8c0f1",
   "metadata": {},
   "outputs": [
    {
     "name": "stderr",
     "output_type": "stream",
     "text": [
      "2025-05-08 15:47:26.081055: I external/local_xla/xla/tsl/cuda/cudart_stub.cc:32] Could not find cuda drivers on your machine, GPU will not be used.\n",
      "2025-05-08 15:47:26.388541: I external/local_xla/xla/tsl/cuda/cudart_stub.cc:32] Could not find cuda drivers on your machine, GPU will not be used.\n",
      "2025-05-08 15:47:26.550860: E external/local_xla/xla/stream_executor/cuda/cuda_fft.cc:467] Unable to register cuFFT factory: Attempting to register factory for plugin cuFFT when one has already been registered\n",
      "WARNING: All log messages before absl::InitializeLog() is called are written to STDERR\n",
      "E0000 00:00:1746719246.928955    3833 cuda_dnn.cc:8579] Unable to register cuDNN factory: Attempting to register factory for plugin cuDNN when one has already been registered\n",
      "E0000 00:00:1746719247.004285    3833 cuda_blas.cc:1407] Unable to register cuBLAS factory: Attempting to register factory for plugin cuBLAS when one has already been registered\n",
      "W0000 00:00:1746719247.787493    3833 computation_placer.cc:177] computation placer already registered. Please check linkage and avoid linking the same target more than once.\n",
      "W0000 00:00:1746719247.787536    3833 computation_placer.cc:177] computation placer already registered. Please check linkage and avoid linking the same target more than once.\n",
      "W0000 00:00:1746719247.787542    3833 computation_placer.cc:177] computation placer already registered. Please check linkage and avoid linking the same target more than once.\n",
      "W0000 00:00:1746719247.787545    3833 computation_placer.cc:177] computation placer already registered. Please check linkage and avoid linking the same target more than once.\n",
      "2025-05-08 15:47:27.815559: I tensorflow/core/platform/cpu_feature_guard.cc:210] This TensorFlow binary is optimized to use available CPU instructions in performance-critical operations.\n",
      "To enable the following instructions: AVX2 FMA, in other operations, rebuild TensorFlow with the appropriate compiler flags.\n"
     ]
    }
   ],
   "source": [
    "import numpy as np\n",
    "import tensorflow as tf\n",
    "from tensorflow.keras.models import Sequential\n",
    "from tensorflow.keras.layers import Conv2D, MaxPooling2D, Flatten, Dense\n",
    "from sklearn.metrics import roc_auc_score, roc_curve\n",
    "import matplotlib.pyplot as plt\n",
    "\n"
   ]
  },
  {
   "cell_type": "code",
   "execution_count": null,
   "id": "0a0823a7-882d-407f-bba6-e6dd01771ba2",
   "metadata": {},
   "outputs": [
    {
     "name": "stdout",
     "output_type": "stream",
     "text": [
      "Downloading data from https://www.cs.toronto.edu/~kriz/cifar-10-python.tar.gz\n",
      "\u001b[1m170498071/170498071\u001b[0m \u001b[32m━━━━━━━━━━━━━━━━━━━━\u001b[0m\u001b[37m\u001b[0m \u001b[1m2s\u001b[0m 0us/step\n"
     ]
    }
   ],
   "source": [
    "(X_train_full, y_train_full), (X_test_full, y_test_full) = tf.keras.datasets.cifar10.load_data()"
   ]
  },
  {
   "cell_type": "markdown",
   "id": "38eb2b7e-e9f3-416b-af1c-aec4f2f0b8e6",
   "metadata": {},
   "source": [
    "| Label | Clase                       |\n",
    "|-------|-----------------------------|\n",
    "| 0     | avión (airplane) ✈️         |\n",
    "| 1     | automóvil (automobile) 🚗    |\n",
    "| 2     | pájaro (bird) 🐦             |\n",
    "| 3     | gato (cat) 🐱                |\n",
    "| 4     | ciervo (deer) 🦌             |\n",
    "| 5     | perro (dog) 🐶               |\n",
    "| 6     | rana (frog) 🐸               |\n",
    "| 7     | caballo (horse) 🐴           |\n",
    "| 8     | barco (ship) 🚢              |\n",
    "| 9     | camión (truck) 🚚            |\n"
   ]
  },
  {
   "cell_type": "code",
   "execution_count": 3,
   "id": "dd5333da-a0c6-43af-aa4c-ca089f835260",
   "metadata": {},
   "outputs": [],
   "source": [
    "y_train_full = y_train_full.flatten()\n",
    "y_test_full = y_test_full.flatten()"
   ]
  },
  {
   "cell_type": "code",
   "execution_count": 4,
   "id": "ee21f67e-3acf-46ff-9796-ba4f2932942d",
   "metadata": {},
   "outputs": [
    {
     "data": {
      "text/plain": [
       "array([6, 9, 9, ..., 9, 1, 1], dtype=uint8)"
      ]
     },
     "execution_count": 4,
     "metadata": {},
     "output_type": "execute_result"
    }
   ],
   "source": [
    "y_train_full"
   ]
  },
  {
   "cell_type": "code",
   "execution_count": 5,
   "id": "f0071842-9032-4661-b77f-9d120903364d",
   "metadata": {},
   "outputs": [],
   "source": [
    "train_filter = np.where((y_train_full == 0) | (y_train_full == 2))\n",
    "test_filter = np.where((y_test_full == 0) | (y_test_full == 2))"
   ]
  },
  {
   "cell_type": "code",
   "execution_count": 6,
   "id": "da43aaec-eff0-4a84-9011-4fe8f23e3e20",
   "metadata": {},
   "outputs": [
    {
     "data": {
      "text/plain": [
       "(array([    6,    13,    18, ..., 49992, 49994, 49995]),)"
      ]
     },
     "execution_count": 6,
     "metadata": {},
     "output_type": "execute_result"
    }
   ],
   "source": [
    "train_filter"
   ]
  },
  {
   "cell_type": "code",
   "execution_count": 7,
   "id": "e4b4bbd9-8b45-4f4f-9597-75fcb5c5c9e2",
   "metadata": {},
   "outputs": [
    {
     "data": {
      "text/plain": [
       "tuple"
      ]
     },
     "execution_count": 7,
     "metadata": {},
     "output_type": "execute_result"
    }
   ],
   "source": [
    "type(test_filter)"
   ]
  },
  {
   "cell_type": "code",
   "execution_count": 8,
   "id": "52ca2d02-d50f-4c5b-af52-095726bf4f00",
   "metadata": {},
   "outputs": [],
   "source": [
    "X_train, y_train = X_train_full[train_filter], y_train_full[train_filter]\n",
    "X_test, y_test = X_test_full[test_filter], y_test_full[test_filter]"
   ]
  },
  {
   "cell_type": "code",
   "execution_count": 9,
   "id": "7ea5dd7d-e458-4b5e-ab3e-828e47569810",
   "metadata": {},
   "outputs": [
    {
     "data": {
      "text/plain": [
       "array([[[[164, 206,  84],\n",
       "         [105, 140,  61],\n",
       "         [118, 148, 101],\n",
       "         ...,\n",
       "         [109, 147,  73],\n",
       "         [108, 147,  69],\n",
       "         [ 91, 129,  57]],\n",
       "\n",
       "        [[167, 213,  84],\n",
       "         [116, 160,  49],\n",
       "         [ 72, 109,  43],\n",
       "         ...,\n",
       "         [105, 142,  79],\n",
       "         [105, 142,  72],\n",
       "         [ 89, 127,  57]],\n",
       "\n",
       "        [[140, 191,  65],\n",
       "         [142, 193,  66],\n",
       "         [119, 163,  79],\n",
       "         ...,\n",
       "         [104, 139,  84],\n",
       "         [ 84, 120,  58],\n",
       "         [ 78, 115,  49]],\n",
       "\n",
       "        ...,\n",
       "\n",
       "        [[139, 148,  81],\n",
       "         [142, 155,  74],\n",
       "         [135, 156,  72],\n",
       "         ...,\n",
       "         [ 89, 134,  28],\n",
       "         [ 97, 148,  24],\n",
       "         [126, 176,  49]],\n",
       "\n",
       "        [[163, 157,  85],\n",
       "         [153, 164,  82],\n",
       "         [146, 164,  90],\n",
       "         ...,\n",
       "         [ 85, 130,  19],\n",
       "         [ 98, 148,  27],\n",
       "         [127, 178,  48]],\n",
       "\n",
       "        [[183, 153, 102],\n",
       "         [176, 182, 116],\n",
       "         [154, 154, 100],\n",
       "         ...,\n",
       "         [ 94, 134,  29],\n",
       "         [ 91, 133,  26],\n",
       "         [122, 170,  44]]],\n",
       "\n",
       "\n",
       "       [[[ 17,   3,   2],\n",
       "         [ 17,   3,   2],\n",
       "         [ 17,   2,   1],\n",
       "         ...,\n",
       "         [ 23,  13,  11],\n",
       "         [ 22,  12,  10],\n",
       "         [ 19,   9,   7]],\n",
       "\n",
       "        [[ 18,   4,   3],\n",
       "         [ 18,   4,   3],\n",
       "         [ 18,   4,   3],\n",
       "         ...,\n",
       "         [ 24,  14,  12],\n",
       "         [ 23,  13,  11],\n",
       "         [ 22,  12,  10]],\n",
       "\n",
       "        [[ 18,   4,   3],\n",
       "         [ 18,   4,   3],\n",
       "         [ 19,   5,   4],\n",
       "         ...,\n",
       "         [ 24,  14,  12],\n",
       "         [ 23,  13,  11],\n",
       "         [ 23,  13,  11]],\n",
       "\n",
       "        ...,\n",
       "\n",
       "        [[217, 214, 223],\n",
       "         [226, 219, 227],\n",
       "         [210, 201, 213],\n",
       "         ...,\n",
       "         [ 33,  24,  17],\n",
       "         [ 32,  23,  16],\n",
       "         [ 33,  24,  17]],\n",
       "\n",
       "        [[219, 215, 230],\n",
       "         [222, 215, 229],\n",
       "         [214, 208, 225],\n",
       "         ...,\n",
       "         [ 35,  26,  19],\n",
       "         [ 34,  25,  18],\n",
       "         [ 33,  24,  17]],\n",
       "\n",
       "        [[210, 208, 223],\n",
       "         [221, 216, 229],\n",
       "         [215, 212, 227],\n",
       "         ...,\n",
       "         [ 36,  27,  20],\n",
       "         [ 34,  25,  18],\n",
       "         [ 32,  23,  16]]],\n",
       "\n",
       "\n",
       "       [[[197, 187, 188],\n",
       "         [198, 188, 189],\n",
       "         [201, 191, 192],\n",
       "         ...,\n",
       "         [217, 201, 204],\n",
       "         [217, 201, 204],\n",
       "         [217, 201, 204]],\n",
       "\n",
       "        [[193, 183, 184],\n",
       "         [195, 185, 186],\n",
       "         [198, 188, 189],\n",
       "         ...,\n",
       "         [216, 200, 203],\n",
       "         [215, 200, 202],\n",
       "         [214, 198, 201]],\n",
       "\n",
       "        [[192, 182, 183],\n",
       "         [194, 184, 185],\n",
       "         [197, 187, 188],\n",
       "         ...,\n",
       "         [217, 201, 204],\n",
       "         [216, 200, 203],\n",
       "         [215, 199, 202]],\n",
       "\n",
       "        ...,\n",
       "\n",
       "        [[156, 146, 147],\n",
       "         [156, 146, 147],\n",
       "         [156, 146, 147],\n",
       "         ...,\n",
       "         [ 98,  79,  65],\n",
       "         [117,  96,  82],\n",
       "         [128, 105,  89]],\n",
       "\n",
       "        [[158, 148, 149],\n",
       "         [159, 149, 150],\n",
       "         [154, 144, 145],\n",
       "         ...,\n",
       "         [131, 110,  96],\n",
       "         [117,  99,  86],\n",
       "         [ 91,  75,  64]],\n",
       "\n",
       "        [[152, 142, 143],\n",
       "         [151, 141, 142],\n",
       "         [145, 135, 136],\n",
       "         ...,\n",
       "         [ 91,  72,  61],\n",
       "         [ 90,  73,  63],\n",
       "         [ 79,  65,  57]]],\n",
       "\n",
       "\n",
       "       ...,\n",
       "\n",
       "\n",
       "       [[[155, 155, 155],\n",
       "         [154, 154, 154],\n",
       "         [154, 154, 154],\n",
       "         ...,\n",
       "         [154, 156, 155],\n",
       "         [154, 156, 155],\n",
       "         [154, 156, 155]],\n",
       "\n",
       "        [[154, 154, 154],\n",
       "         [153, 153, 153],\n",
       "         [153, 153, 153],\n",
       "         ...,\n",
       "         [152, 154, 153],\n",
       "         [152, 154, 153],\n",
       "         [153, 155, 154]],\n",
       "\n",
       "        [[154, 154, 154],\n",
       "         [152, 152, 152],\n",
       "         [152, 152, 152],\n",
       "         ...,\n",
       "         [152, 154, 153],\n",
       "         [152, 154, 153],\n",
       "         [151, 153, 152]],\n",
       "\n",
       "        ...,\n",
       "\n",
       "        [[105,  95,  71],\n",
       "         [106,  97,  74],\n",
       "         [104,  95,  74],\n",
       "         ...,\n",
       "         [115, 104,  62],\n",
       "         [115, 104,  62],\n",
       "         [126, 113,  72]],\n",
       "\n",
       "        [[110,  96,  62],\n",
       "         [110,  96,  63],\n",
       "         [113,  99,  65],\n",
       "         ...,\n",
       "         [133, 120,  74],\n",
       "         [131, 118,  72],\n",
       "         [133, 119,  73]],\n",
       "\n",
       "        [[131, 112,  66],\n",
       "         [130, 112,  66],\n",
       "         [130, 112,  66],\n",
       "         ...,\n",
       "         [134, 118,  71],\n",
       "         [135, 118,  72],\n",
       "         [135, 118,  72]]],\n",
       "\n",
       "\n",
       "       [[[156, 159, 164],\n",
       "         [155, 158, 163],\n",
       "         [156, 159, 163],\n",
       "         ...,\n",
       "         [157, 162, 165],\n",
       "         [156, 161, 164],\n",
       "         [155, 160, 163]],\n",
       "\n",
       "        [[158, 161, 166],\n",
       "         [157, 160, 165],\n",
       "         [158, 161, 166],\n",
       "         ...,\n",
       "         [158, 163, 166],\n",
       "         [157, 162, 165],\n",
       "         [157, 162, 165]],\n",
       "\n",
       "        [[157, 160, 165],\n",
       "         [156, 159, 164],\n",
       "         [156, 159, 164],\n",
       "         ...,\n",
       "         [157, 162, 165],\n",
       "         [156, 161, 164],\n",
       "         [155, 160, 163]],\n",
       "\n",
       "        ...,\n",
       "\n",
       "        [[159, 164, 167],\n",
       "         [158, 163, 166],\n",
       "         [159, 164, 167],\n",
       "         ...,\n",
       "         [156, 164, 166],\n",
       "         [156, 164, 166],\n",
       "         [155, 163, 165]],\n",
       "\n",
       "        [[160, 165, 168],\n",
       "         [159, 164, 167],\n",
       "         [160, 165, 168],\n",
       "         ...,\n",
       "         [157, 165, 167],\n",
       "         [156, 164, 166],\n",
       "         [155, 163, 165]],\n",
       "\n",
       "        [[158, 163, 166],\n",
       "         [157, 162, 165],\n",
       "         [157, 162, 165],\n",
       "         ...,\n",
       "         [153, 161, 163],\n",
       "         [152, 160, 162],\n",
       "         [152, 160, 162]]],\n",
       "\n",
       "\n",
       "       [[[145, 161, 194],\n",
       "         [151, 166, 199],\n",
       "         [156, 171, 205],\n",
       "         ...,\n",
       "         [148, 164, 198],\n",
       "         [146, 163, 195],\n",
       "         [142, 158, 188]],\n",
       "\n",
       "        [[153, 169, 202],\n",
       "         [156, 172, 205],\n",
       "         [155, 171, 204],\n",
       "         ...,\n",
       "         [143, 158, 197],\n",
       "         [136, 152, 189],\n",
       "         [129, 145, 179]],\n",
       "\n",
       "        [[159, 175, 209],\n",
       "         [158, 174, 207],\n",
       "         [160, 176, 209],\n",
       "         ...,\n",
       "         [140, 155, 194],\n",
       "         [136, 152, 189],\n",
       "         [133, 149, 183]],\n",
       "\n",
       "        ...,\n",
       "\n",
       "        [[ 55,  56,  75],\n",
       "         [ 58,  59,  77],\n",
       "         [ 54,  55,  73],\n",
       "         ...,\n",
       "         [ 42,  44,  59],\n",
       "         [ 45,  47,  62],\n",
       "         [ 42,  44,  59]],\n",
       "\n",
       "        [[ 47,  48,  66],\n",
       "         [ 46,  47,  65],\n",
       "         [ 43,  44,  62],\n",
       "         ...,\n",
       "         [ 38,  40,  54],\n",
       "         [ 41,  43,  58],\n",
       "         [ 41,  43,  58]],\n",
       "\n",
       "        [[ 49,  50,  69],\n",
       "         [ 46,  47,  65],\n",
       "         [ 43,  44,  62],\n",
       "         ...,\n",
       "         [ 39,  41,  56],\n",
       "         [ 36,  38,  53],\n",
       "         [ 37,  39,  54]]]], dtype=uint8)"
      ]
     },
     "execution_count": 9,
     "metadata": {},
     "output_type": "execute_result"
    }
   ],
   "source": [
    "X_train"
   ]
  },
  {
   "cell_type": "code",
   "execution_count": 10,
   "id": "bde64b50-90fb-4850-a136-28f53e75a693",
   "metadata": {},
   "outputs": [
    {
     "data": {
      "image/png": "[encoded data removed]",
      "text/plain": [
       "<Figure size 1000x200 with 5 Axes>"
      ]
     },
     "metadata": {},
     "output_type": "display_data"
    }
   ],
   "source": [
    "class_names = ['airplane', 'automobile', 'bird', 'cat', 'deer',\n",
    "               'dog', 'frog', 'horse', 'ship', 'truck']\n",
    "\n",
    "indices = np.where((y_train == 0) | (y_train == 2))[0]\n",
    "\n",
    "plt.figure(figsize=(10, 2))\n",
    "for i, idx in enumerate(indices[:5]):\n",
    "    plt.subplot(1, 5, i + 1)\n",
    "    plt.imshow(X_train[idx])\n",
    "    label = class_names[y_train[idx]]\n",
    "    plt.title(label)\n",
    "    plt.axis('off')\n",
    "\n",
    "plt.tight_layout()\n",
    "plt.show()"
   ]
  },
  {
   "cell_type": "code",
   "execution_count": 11,
   "id": "6a74586f-d730-4cab-9652-95eb61812d51",
   "metadata": {},
   "outputs": [],
   "source": [
    "y_train = (y_train == 2).astype(np.uint8) # true en 1 (perro) , false en 0 (gato).\n",
    "y_test = (y_test == 2).astype(np.uint8)"
   ]
  },
  {
   "cell_type": "code",
   "execution_count": 12,
   "id": "d3c97562-29a4-45d2-81ee-932670d62d51",
   "metadata": {},
   "outputs": [
    {
     "data": {
      "text/plain": [
       "numpy.ndarray"
      ]
     },
     "execution_count": 12,
     "metadata": {},
     "output_type": "execute_result"
    }
   ],
   "source": [
    "type(X_train)"
   ]
  },
  {
   "cell_type": "code",
   "execution_count": 13,
   "id": "a081b548-a5e5-4b7c-9a66-3d5c2a11820b",
   "metadata": {},
   "outputs": [
    {
     "data": {
      "text/plain": [
       "10000"
      ]
     },
     "execution_count": 13,
     "metadata": {},
     "output_type": "execute_result"
    }
   ],
   "source": [
    "len(X_train)"
   ]
  },
  {
   "cell_type": "code",
   "execution_count": 14,
   "id": "27db37cf-2315-48de-9ea8-62789c8394f7",
   "metadata": {},
   "outputs": [
    {
     "data": {
      "text/plain": [
       "(32, 32, 3)"
      ]
     },
     "execution_count": 14,
     "metadata": {},
     "output_type": "execute_result"
    }
   ],
   "source": [
    "X_train[0].shape"
   ]
  },
  {
   "cell_type": "code",
   "execution_count": 15,
   "id": "1c747d66-d171-4e2b-9e8a-4357a0986f7a",
   "metadata": {},
   "outputs": [
    {
     "data": {
      "text/plain": [
       "array([1, 1, 1, ..., 0, 0, 1], dtype=uint8)"
      ]
     },
     "execution_count": 15,
     "metadata": {},
     "output_type": "execute_result"
    }
   ],
   "source": [
    "y_train"
   ]
  },
  {
   "cell_type": "code",
   "execution_count": 16,
   "id": "6711832f-3a91-4182-b839-7ae9eae886f3",
   "metadata": {},
   "outputs": [
    {
     "data": {
      "text/plain": [
       "array([0, 0, 0, ..., 0, 1, 0], dtype=uint8)"
      ]
     },
     "execution_count": 16,
     "metadata": {},
     "output_type": "execute_result"
    }
   ],
   "source": [
    "y_test"
   ]
  },
  {
   "cell_type": "code",
   "execution_count": 17,
   "id": "80b4b130-38c7-4163-8922-437d8ccd2c6b",
   "metadata": {},
   "outputs": [],
   "source": [
    "X_train = X_train / 255.0\n",
    "X_test = X_test / 255.0"
   ]
  },
  {
   "cell_type": "code",
   "execution_count": 18,
   "id": "6cfccf30-f576-4e26-a0a3-9da94a8312d7",
   "metadata": {},
   "outputs": [
    {
     "name": "stdout",
     "output_type": "stream",
     "text": [
      "X_train shape: (10000, 32, 32, 3), y_train shape: (10000,)\n"
     ]
    }
   ],
   "source": [
    "print(f\"X_train shape: {X_train.shape}, y_train shape: {y_train.shape}\")"
   ]
  },
  {
   "cell_type": "code",
   "execution_count": 19,
   "id": "163b4dc4-97c8-4a84-819b-3d6b64db8e20",
   "metadata": {},
   "outputs": [
    {
     "name": "stderr",
     "output_type": "stream",
     "text": [
      "/workspaces/ArtinKemanian_Notebook/env1/lib/python3.12/site-packages/keras/src/layers/convolutional/base_conv.py:107: UserWarning: Do not pass an `input_shape`/`input_dim` argument to a layer. When using Sequential models, prefer using an `Input(shape)` object as the first layer in the model instead.\n",
      "  super().__init__(activity_regularizer=activity_regularizer, **kwargs)\n",
      "2025-05-08 15:50:39.420261: E external/local_xla/xla/stream_executor/cuda/cuda_platform.cc:51] failed call to cuInit: INTERNAL: CUDA error: Failed call to cuInit: UNKNOWN ERROR (303)\n"
     ]
    },
    {
     "data": {
      "text/html": [
       "<pre style=\"white-space:pre;overflow-x:auto;line-height:normal;font-family:Menlo,'DejaVu Sans Mono',consolas,'Courier New',monospace\"><span style=\"font-weight: bold\">Model: \"sequential\"</span>\n",
       "</pre>\n"
      ],
      "text/plain": [
       "\u001b[1mModel: \"sequential\"\u001b[0m\n"
      ]
     },
     "metadata": {},
     "output_type": "display_data"
    },
    {
     "data": {
      "text/html": [
       "<pre style=\"white-space:pre;overflow-x:auto;line-height:normal;font-family:Menlo,'DejaVu Sans Mono',consolas,'Courier New',monospace\">┏━━━━━━━━━━━━━━━━━━━━━━━━━━━━━━━━━┳━━━━━━━━━━━━━━━━━━━━━━━━┳━━━━━━━━━━━━━━━┓\n",
       "┃<span style=\"font-weight: bold\"> Layer (type)                    </span>┃<span style=\"font-weight: bold\"> Output Shape           </span>┃<span style=\"font-weight: bold\">       Param # </span>┃\n",
       "┡━━━━━━━━━━━━━━━━━━━━━━━━━━━━━━━━━╇━━━━━━━━━━━━━━━━━━━━━━━━╇━━━━━━━━━━━━━━━┩\n",
       "│ conv2d (<span style=\"color: #0087ff; text-decoration-color: #0087ff\">Conv2D</span>)                 │ (<span style=\"color: #00d7ff; text-decoration-color: #00d7ff\">None</span>, <span style=\"color: #00af00; text-decoration-color: #00af00\">30</span>, <span style=\"color: #00af00; text-decoration-color: #00af00\">30</span>, <span style=\"color: #00af00; text-decoration-color: #00af00\">32</span>)     │           <span style=\"color: #00af00; text-decoration-color: #00af00\">896</span> │\n",
       "├─────────────────────────────────┼────────────────────────┼───────────────┤\n",
       "│ max_pooling2d (<span style=\"color: #0087ff; text-decoration-color: #0087ff\">MaxPooling2D</span>)    │ (<span style=\"color: #00d7ff; text-decoration-color: #00d7ff\">None</span>, <span style=\"color: #00af00; text-decoration-color: #00af00\">15</span>, <span style=\"color: #00af00; text-decoration-color: #00af00\">15</span>, <span style=\"color: #00af00; text-decoration-color: #00af00\">32</span>)     │             <span style=\"color: #00af00; text-decoration-color: #00af00\">0</span> │\n",
       "├─────────────────────────────────┼────────────────────────┼───────────────┤\n",
       "│ conv2d_1 (<span style=\"color: #0087ff; text-decoration-color: #0087ff\">Conv2D</span>)               │ (<span style=\"color: #00d7ff; text-decoration-color: #00d7ff\">None</span>, <span style=\"color: #00af00; text-decoration-color: #00af00\">13</span>, <span style=\"color: #00af00; text-decoration-color: #00af00\">13</span>, <span style=\"color: #00af00; text-decoration-color: #00af00\">64</span>)     │        <span style=\"color: #00af00; text-decoration-color: #00af00\">18,496</span> │\n",
       "├─────────────────────────────────┼────────────────────────┼───────────────┤\n",
       "│ max_pooling2d_1 (<span style=\"color: #0087ff; text-decoration-color: #0087ff\">MaxPooling2D</span>)  │ (<span style=\"color: #00d7ff; text-decoration-color: #00d7ff\">None</span>, <span style=\"color: #00af00; text-decoration-color: #00af00\">6</span>, <span style=\"color: #00af00; text-decoration-color: #00af00\">6</span>, <span style=\"color: #00af00; text-decoration-color: #00af00\">64</span>)       │             <span style=\"color: #00af00; text-decoration-color: #00af00\">0</span> │\n",
       "├─────────────────────────────────┼────────────────────────┼───────────────┤\n",
       "│ flatten (<span style=\"color: #0087ff; text-decoration-color: #0087ff\">Flatten</span>)               │ (<span style=\"color: #00d7ff; text-decoration-color: #00d7ff\">None</span>, <span style=\"color: #00af00; text-decoration-color: #00af00\">2304</span>)           │             <span style=\"color: #00af00; text-decoration-color: #00af00\">0</span> │\n",
       "├─────────────────────────────────┼────────────────────────┼───────────────┤\n",
       "│ dense (<span style=\"color: #0087ff; text-decoration-color: #0087ff\">Dense</span>)                   │ (<span style=\"color: #00d7ff; text-decoration-color: #00d7ff\">None</span>, <span style=\"color: #00af00; text-decoration-color: #00af00\">64</span>)             │       <span style=\"color: #00af00; text-decoration-color: #00af00\">147,520</span> │\n",
       "├─────────────────────────────────┼────────────────────────┼───────────────┤\n",
       "│ dense_1 (<span style=\"color: #0087ff; text-decoration-color: #0087ff\">Dense</span>)                 │ (<span style=\"color: #00d7ff; text-decoration-color: #00d7ff\">None</span>, <span style=\"color: #00af00; text-decoration-color: #00af00\">1</span>)              │            <span style=\"color: #00af00; text-decoration-color: #00af00\">65</span> │\n",
       "└─────────────────────────────────┴────────────────────────┴───────────────┘\n",
       "</pre>\n"
      ],
      "text/plain": [
       "┏━━━━━━━━━━━━━━━━━━━━━━━━━━━━━━━━━┳━━━━━━━━━━━━━━━━━━━━━━━━┳━━━━━━━━━━━━━━━┓\n",
       "┃\u001b[1m \u001b[0m\u001b[1mLayer (type)                   \u001b[0m\u001b[1m \u001b[0m┃\u001b[1m \u001b[0m\u001b[1mOutput Shape          \u001b[0m\u001b[1m \u001b[0m┃\u001b[1m \u001b[0m\u001b[1m      Param #\u001b[0m\u001b[1m \u001b[0m┃\n",
       "┡━━━━━━━━━━━━━━━━━━━━━━━━━━━━━━━━━╇━━━━━━━━━━━━━━━━━━━━━━━━╇━━━━━━━━━━━━━━━┩\n",
       "│ conv2d (\u001b[38;5;33mConv2D\u001b[0m)                 │ (\u001b[38;5;45mNone\u001b[0m, \u001b[38;5;34m30\u001b[0m, \u001b[38;5;34m30\u001b[0m, \u001b[38;5;34m32\u001b[0m)     │           \u001b[38;5;34m896\u001b[0m │\n",
       "├─────────────────────────────────┼────────────────────────┼───────────────┤\n",
       "│ max_pooling2d (\u001b[38;5;33mMaxPooling2D\u001b[0m)    │ (\u001b[38;5;45mNone\u001b[0m, \u001b[38;5;34m15\u001b[0m, \u001b[38;5;34m15\u001b[0m, \u001b[38;5;34m32\u001b[0m)     │             \u001b[38;5;34m0\u001b[0m │\n",
       "├─────────────────────────────────┼────────────────────────┼───────────────┤\n",
       "│ conv2d_1 (\u001b[38;5;33mConv2D\u001b[0m)               │ (\u001b[38;5;45mNone\u001b[0m, \u001b[38;5;34m13\u001b[0m, \u001b[38;5;34m13\u001b[0m, \u001b[38;5;34m64\u001b[0m)     │        \u001b[38;5;34m18,496\u001b[0m │\n",
       "├─────────────────────────────────┼────────────────────────┼───────────────┤\n",
       "│ max_pooling2d_1 (\u001b[38;5;33mMaxPooling2D\u001b[0m)  │ (\u001b[38;5;45mNone\u001b[0m, \u001b[38;5;34m6\u001b[0m, \u001b[38;5;34m6\u001b[0m, \u001b[38;5;34m64\u001b[0m)       │             \u001b[38;5;34m0\u001b[0m │\n",
       "├─────────────────────────────────┼────────────────────────┼───────────────┤\n",
       "│ flatten (\u001b[38;5;33mFlatten\u001b[0m)               │ (\u001b[38;5;45mNone\u001b[0m, \u001b[38;5;34m2304\u001b[0m)           │             \u001b[38;5;34m0\u001b[0m │\n",
       "├─────────────────────────────────┼────────────────────────┼───────────────┤\n",
       "│ dense (\u001b[38;5;33mDense\u001b[0m)                   │ (\u001b[38;5;45mNone\u001b[0m, \u001b[38;5;34m64\u001b[0m)             │       \u001b[38;5;34m147,520\u001b[0m │\n",
       "├─────────────────────────────────┼────────────────────────┼───────────────┤\n",
       "│ dense_1 (\u001b[38;5;33mDense\u001b[0m)                 │ (\u001b[38;5;45mNone\u001b[0m, \u001b[38;5;34m1\u001b[0m)              │            \u001b[38;5;34m65\u001b[0m │\n",
       "└─────────────────────────────────┴────────────────────────┴───────────────┘\n"
      ]
     },
     "metadata": {},
     "output_type": "display_data"
    },
    {
     "data": {
      "text/html": [
       "<pre style=\"white-space:pre;overflow-x:auto;line-height:normal;font-family:Menlo,'DejaVu Sans Mono',consolas,'Courier New',monospace\"><span style=\"font-weight: bold\"> Total params: </span><span style=\"color: #00af00; text-decoration-color: #00af00\">166,977</span> (652.25 KB)\n",
       "</pre>\n"
      ],
      "text/plain": [
       "\u001b[1m Total params: \u001b[0m\u001b[38;5;34m166,977\u001b[0m (652.25 KB)\n"
      ]
     },
     "metadata": {},
     "output_type": "display_data"
    },
    {
     "data": {
      "text/html": [
       "<pre style=\"white-space:pre;overflow-x:auto;line-height:normal;font-family:Menlo,'DejaVu Sans Mono',consolas,'Courier New',monospace\"><span style=\"font-weight: bold\"> Trainable params: </span><span style=\"color: #00af00; text-decoration-color: #00af00\">166,977</span> (652.25 KB)\n",
       "</pre>\n"
      ],
      "text/plain": [
       "\u001b[1m Trainable params: \u001b[0m\u001b[38;5;34m166,977\u001b[0m (652.25 KB)\n"
      ]
     },
     "metadata": {},
     "output_type": "display_data"
    },
    {
     "data": {
      "text/html": [
       "<pre style=\"white-space:pre;overflow-x:auto;line-height:normal;font-family:Menlo,'DejaVu Sans Mono',consolas,'Courier New',monospace\"><span style=\"font-weight: bold\"> Non-trainable params: </span><span style=\"color: #00af00; text-decoration-color: #00af00\">0</span> (0.00 B)\n",
       "</pre>\n"
      ],
      "text/plain": [
       "\u001b[1m Non-trainable params: \u001b[0m\u001b[38;5;34m0\u001b[0m (0.00 B)\n"
      ]
     },
     "metadata": {},
     "output_type": "display_data"
    }
   ],
   "source": [
    "model = Sequential([\n",
    "\n",
    "    # Capa 1: Convolucional\n",
    "    Conv2D(\n",
    "        filters=32,               # 🧩 Número de filtros\n",
    "        kernel_size=(3, 3),       # 📏 Tamaño del filtro (kernel)\n",
    "        activation='relu',       # ⚡ Función de activación\n",
    "        input_shape=(32, 32, 3)   # 📷 Tamaño de la imagen de entrada (alto, ancho, canales)\n",
    "    ),\n",
    "\n",
    "    # Capa 2: MaxPooling\n",
    "    MaxPooling2D(\n",
    "        pool_size=(2, 2)          # 🌀 Tamaño de la ventana de pooling (reducción de tamaño)\n",
    "    ),\n",
    "\n",
    "    # Capa 3: Convolucional\n",
    "    Conv2D(\n",
    "        filters=64,               # 🧩 Más filtros para capturar más patrones complejos\n",
    "        kernel_size=(3, 3),       # 📏 Mismo tamaño de kernel\n",
    "        activation='relu'        # ⚡ Activación ReLU\n",
    "    ),\n",
    "\n",
    "    # Capa 4: MaxPooling\n",
    "    MaxPooling2D(\n",
    "        pool_size=(2, 2)          # 🌀 Mismo tamaño de pooling\n",
    "    ),\n",
    "\n",
    "    # Capa 5: Aplanar los mapas de activación\n",
    "    Flatten(),                   # 🔁 Convierte la salida 2D a un vector 1D\n",
    "\n",
    "    # Capa 6: Densa (oculta)\n",
    "    Dense(\n",
    "        units=64,                # 🔢 Número de neuronas\n",
    "        activation='relu'        # ⚡ Activación ReLU\n",
    "    ),\n",
    "\n",
    "    # Capa 7: Densa (salida)\n",
    "    Dense(\n",
    "        units=1,                 # 🔘 Clasificación binaria (0 o 1)\n",
    "        activation='sigmoid'     # ✅ Activación Sigmoide para salida entre 0 y 1\n",
    "    )\n",
    "])\n",
    "\n",
    "\n",
    "model.compile(optimizer='adam',\n",
    "              loss='binary_crossentropy',\n",
    "              metrics=[tf.keras.metrics.AUC(name='auc')])\n",
    "\n",
    "model.summary()"
   ]
  },
  {
   "cell_type": "code",
   "execution_count": 20,
   "id": "be00414b-0ac3-40d8-83a3-242e6a65a940",
   "metadata": {},
   "outputs": [
    {
     "data": {
      "text/plain": [
       "10000"
      ]
     },
     "execution_count": 20,
     "metadata": {},
     "output_type": "execute_result"
    }
   ],
   "source": [
    "len(X_train)"
   ]
  },
  {
   "cell_type": "code",
   "execution_count": 21,
   "id": "9f1fb9ab-9cd8-49f7-9767-80eab5a6f380",
   "metadata": {},
   "outputs": [
    {
     "data": {
      "text/plain": [
       "2000"
      ]
     },
     "execution_count": 21,
     "metadata": {},
     "output_type": "execute_result"
    }
   ],
   "source": [
    "len(X_test)"
   ]
  },
  {
   "cell_type": "code",
   "execution_count": 22,
   "id": "7d10ff94-481d-4464-b6f7-265ea815378a",
   "metadata": {},
   "outputs": [
    {
     "name": "stdout",
     "output_type": "stream",
     "text": [
      "Epoch 1/20\n"
     ]
    },
    {
     "name": "stderr",
     "output_type": "stream",
     "text": [
      "2025-05-08 15:50:50.821244: W external/local_xla/xla/tsl/framework/cpu_allocator_impl.cc:83] Allocation of 122880000 exceeds 10% of free system memory.\n"
     ]
    },
    {
     "name": "stdout",
     "output_type": "stream",
     "text": [
      "\u001b[1m  5/157\u001b[0m \u001b[37m━━━━━━━━━━━━━━━━━━━━\u001b[0m \u001b[1m5s\u001b[0m 38ms/step - auc: 0.5228 - loss: 0.7062"
     ]
    },
    {
     "name": "stderr",
     "output_type": "stream",
     "text": [
      "2025-05-08 15:50:52.214106: W external/local_xla/xla/tsl/framework/cpu_allocator_impl.cc:83] Allocation of 19663488 exceeds 10% of free system memory.\n",
      "2025-05-08 15:50:52.216120: W external/local_xla/xla/tsl/framework/cpu_allocator_impl.cc:83] Allocation of 19663488 exceeds 10% of free system memory.\n",
      "2025-05-08 15:50:52.259407: W external/local_xla/xla/tsl/framework/cpu_allocator_impl.cc:83] Allocation of 19663488 exceeds 10% of free system memory.\n",
      "2025-05-08 15:50:52.261348: W external/local_xla/xla/tsl/framework/cpu_allocator_impl.cc:83] Allocation of 19663488 exceeds 10% of free system memory.\n"
     ]
    },
    {
     "name": "stdout",
     "output_type": "stream",
     "text": [
      "\u001b[1m157/157\u001b[0m \u001b[32m━━━━━━━━━━━━━━━━━━━━\u001b[0m\u001b[37m\u001b[0m \u001b[1m8s\u001b[0m 44ms/step - auc: 0.7971 - loss: 0.5366 - val_auc: 0.9309 - val_loss: 0.3430\n",
      "Epoch 2/20\n",
      "\u001b[1m157/157\u001b[0m \u001b[32m━━━━━━━━━━━━━━━━━━━━\u001b[0m\u001b[37m\u001b[0m \u001b[1m7s\u001b[0m 43ms/step - auc: 0.9243 - loss: 0.3519 - val_auc: 0.9399 - val_loss: 0.3175\n",
      "Epoch 3/20\n",
      "\u001b[1m157/157\u001b[0m \u001b[32m━━━━━━━━━━━━━━━━━━━━\u001b[0m\u001b[37m\u001b[0m \u001b[1m7s\u001b[0m 42ms/step - auc: 0.9367 - loss: 0.3211 - val_auc: 0.9490 - val_loss: 0.2909\n",
      "Epoch 4/20\n",
      "\u001b[1m157/157\u001b[0m \u001b[32m━━━━━━━━━━━━━━━━━━━━\u001b[0m\u001b[37m\u001b[0m \u001b[1m10s\u001b[0m 42ms/step - auc: 0.9495 - loss: 0.2890 - val_auc: 0.9500 - val_loss: 0.3055\n",
      "Epoch 5/20\n",
      "\u001b[1m157/157\u001b[0m \u001b[32m━━━━━━━━━━━━━━━━━━━━\u001b[0m\u001b[37m\u001b[0m \u001b[1m10s\u001b[0m 43ms/step - auc: 0.9567 - loss: 0.2672 - val_auc: 0.9505 - val_loss: 0.3077\n",
      "Epoch 6/20\n",
      "\u001b[1m157/157\u001b[0m \u001b[32m━━━━━━━━━━━━━━━━━━━━\u001b[0m\u001b[37m\u001b[0m \u001b[1m10s\u001b[0m 42ms/step - auc: 0.9657 - loss: 0.2388 - val_auc: 0.9565 - val_loss: 0.2677\n",
      "Epoch 7/20\n",
      "\u001b[1m157/157\u001b[0m \u001b[32m━━━━━━━━━━━━━━━━━━━━\u001b[0m\u001b[37m\u001b[0m \u001b[1m7s\u001b[0m 42ms/step - auc: 0.9677 - loss: 0.2302 - val_auc: 0.9587 - val_loss: 0.2645\n",
      "Epoch 8/20\n",
      "\u001b[1m157/157\u001b[0m \u001b[32m━━━━━━━━━━━━━━━━━━━━\u001b[0m\u001b[37m\u001b[0m \u001b[1m7s\u001b[0m 42ms/step - auc: 0.9657 - loss: 0.2375 - val_auc: 0.9593 - val_loss: 0.2583\n",
      "Epoch 9/20\n",
      "\u001b[1m157/157\u001b[0m \u001b[32m━━━━━━━━━━━━━━━━━━━━\u001b[0m\u001b[37m\u001b[0m \u001b[1m7s\u001b[0m 43ms/step - auc: 0.9763 - loss: 0.1975 - val_auc: 0.9603 - val_loss: 0.2571\n",
      "Epoch 10/20\n",
      "\u001b[1m157/157\u001b[0m \u001b[32m━━━━━━━━━━━━━━━━━━━━\u001b[0m\u001b[37m\u001b[0m \u001b[1m8s\u001b[0m 53ms/step - auc: 0.9770 - loss: 0.1936 - val_auc: 0.9607 - val_loss: 0.2528\n",
      "Epoch 11/20\n",
      "\u001b[1m157/157\u001b[0m \u001b[32m━━━━━━━━━━━━━━━━━━━━\u001b[0m\u001b[37m\u001b[0m \u001b[1m9s\u001b[0m 58ms/step - auc: 0.9814 - loss: 0.1758 - val_auc: 0.9620 - val_loss: 0.2488\n",
      "Epoch 12/20\n",
      "\u001b[1m157/157\u001b[0m \u001b[32m━━━━━━━━━━━━━━━━━━━━\u001b[0m\u001b[37m\u001b[0m \u001b[1m8s\u001b[0m 51ms/step - auc: 0.9837 - loss: 0.1661 - val_auc: 0.9624 - val_loss: 0.2577\n",
      "Epoch 13/20\n",
      "\u001b[1m157/157\u001b[0m \u001b[32m━━━━━━━━━━━━━━━━━━━━\u001b[0m\u001b[37m\u001b[0m \u001b[1m7s\u001b[0m 42ms/step - auc: 0.9818 - loss: 0.1737 - val_auc: 0.9610 - val_loss: 0.2625\n",
      "Epoch 14/20\n",
      "\u001b[1m157/157\u001b[0m \u001b[32m━━━━━━━━━━━━━━━━━━━━\u001b[0m\u001b[37m\u001b[0m \u001b[1m7s\u001b[0m 44ms/step - auc: 0.9872 - loss: 0.1468 - val_auc: 0.9614 - val_loss: 0.2614\n",
      "Epoch 15/20\n",
      "\u001b[1m157/157\u001b[0m \u001b[32m━━━━━━━━━━━━━━━━━━━━\u001b[0m\u001b[37m\u001b[0m \u001b[1m7s\u001b[0m 43ms/step - auc: 0.9882 - loss: 0.1391 - val_auc: 0.9639 - val_loss: 0.2697\n",
      "Epoch 16/20\n",
      "\u001b[1m157/157\u001b[0m \u001b[32m━━━━━━━━━━━━━━━━━━━━\u001b[0m\u001b[37m\u001b[0m \u001b[1m7s\u001b[0m 43ms/step - auc: 0.9911 - loss: 0.1219 - val_auc: 0.9583 - val_loss: 0.2832\n",
      "Epoch 17/20\n",
      "\u001b[1m157/157\u001b[0m \u001b[32m━━━━━━━━━━━━━━━━━━━━\u001b[0m\u001b[37m\u001b[0m \u001b[1m10s\u001b[0m 42ms/step - auc: 0.9912 - loss: 0.1223 - val_auc: 0.9615 - val_loss: 0.2767\n",
      "Epoch 18/20\n",
      "\u001b[1m157/157\u001b[0m \u001b[32m━━━━━━━━━━━━━━━━━━━━\u001b[0m\u001b[37m\u001b[0m \u001b[1m10s\u001b[0m 43ms/step - auc: 0.9918 - loss: 0.1176 - val_auc: 0.9581 - val_loss: 0.2942\n",
      "Epoch 19/20\n",
      "\u001b[1m157/157\u001b[0m \u001b[32m━━━━━━━━━━━━━━━━━━━━\u001b[0m\u001b[37m\u001b[0m \u001b[1m7s\u001b[0m 43ms/step - auc: 0.9953 - loss: 0.0892 - val_auc: 0.9601 - val_loss: 0.2911\n",
      "Epoch 20/20\n",
      "\u001b[1m157/157\u001b[0m \u001b[32m━━━━━━━━━━━━━━━━━━━━\u001b[0m\u001b[37m\u001b[0m \u001b[1m10s\u001b[0m 42ms/step - auc: 0.9963 - loss: 0.0800 - val_auc: 0.9598 - val_loss: 0.2965\n"
     ]
    }
   ],
   "source": [
    "history = model.fit(X_train, y_train,\n",
    "                    epochs=20,\n",
    "                    batch_size=64,\n",
    "                    validation_data=(X_test, y_test))"
   ]
  },
  {
   "cell_type": "code",
   "execution_count": 23,
   "id": "b36ccd4e-9749-42b9-ac94-ad1ac6cd5d67",
   "metadata": {},
   "outputs": [
    {
     "name": "stdout",
     "output_type": "stream",
     "text": [
      "\u001b[1m37/63\u001b[0m \u001b[32m━━━━━━━━━━━\u001b[0m\u001b[37m━━━━━━━━━\u001b[0m \u001b[1m0s\u001b[0m 6ms/step"
     ]
    },
    {
     "name": "stdout",
     "output_type": "stream",
     "text": [
      "\u001b[1m63/63\u001b[0m \u001b[32m━━━━━━━━━━━━━━━━━━━━\u001b[0m\u001b[37m\u001b[0m \u001b[1m1s\u001b[0m 8ms/step\n",
      "AUC Score: 0.9619\n"
     ]
    },
    {
     "data": {
      "image/png": "[encoded data removed]",
      "text/plain": [
       "<Figure size 800x600 with 1 Axes>"
      ]
     },
     "metadata": {},
     "output_type": "display_data"
    }
   ],
   "source": [
    "y_proba = model.predict(X_test).flatten()\n",
    "\n",
    "auc_score = roc_auc_score(y_test, y_proba)\n",
    "print(f\"AUC Score: {auc_score:.4f}\")\n",
    "\n",
    "fpr, tpr, thresholds = roc_curve(y_test, y_proba)\n",
    "\n",
    "plt.figure(figsize=(8, 6))\n",
    "plt.plot(fpr, tpr, label=f'ROC Curve (AUC = {auc_score:.4f})')\n",
    "plt.plot([0, 1], [0, 1], 'k--', label='Random')\n",
    "plt.xlabel('False Positive Rate')\n",
    "plt.ylabel('True Positive Rate')\n",
    "plt.title('ROC Curve: Clasificador Gato vs Perro')\n",
    "plt.legend()\n",
    "plt.grid(True)\n",
    "plt.show()"
   ]
  }
 ],
 "metadata": {
  "kernelspec": {
   "display_name": "env1",
   "language": "python",
   "name": "python3"
  },
  "language_info": {
   "codemirror_mode": {
    "name": "ipython",
    "version": 3
   },
   "file_extension": ".py",
   "mimetype": "text/x-python",
   "name": "python",
   "nbconvert_exporter": "python",
   "pygments_lexer": "ipython3",
   "version": "3.12.1"
  }
 },
 "nbformat": 4,
 "nbformat_minor": 5
}
